{
 "cells": [
  {
   "cell_type": "code",
   "execution_count": 1,
   "id": "e82118d6",
   "metadata": {},
   "outputs": [],
   "source": [
    "from selenium import webdriver\n",
    "import time\n",
    "from selenium.webdriver.common.keys import Keys\n",
    "from bs4 import BeautifulSoup as bs\n",
    "import pandas as pd\n",
    "\n",
    "# 리스트 로컬에 저장 \n",
    "import pickle\n",
    "\n",
    "from selenium.webdriver.common.keys import Keys\n",
    "from selenium.webdriver.common.by import By\n",
    "from datetime import datetime\n",
    "from selenium.webdriver.chrome.options import Options"
   ]
  },
  {
   "cell_type": "markdown",
   "id": "97bbc239",
   "metadata": {},
   "source": [
    "## 1. 상품 코드 추출"
   ]
  },
  {
   "cell_type": "code",
   "execution_count": 39,
   "id": "ce8c2c1c",
   "metadata": {},
   "outputs": [],
   "source": [
    "def KewordProductCodeCrawling(keyword_name):\n",
    "    print('##### 키워드 = \"{}\"의 상품 코드 추출을 시작합니다. ########'.format(keyword_name))\n",
    "    \n",
    "    \n",
    "       \n",
    "#     chrome_options = Options()\n",
    "#     chrome_options.add_argument(\"--proxy-server=socks5://127.0.0.1:9150\")\n",
    "    \n",
    "    # 맥북\n",
    "    driver = webdriver.Chrome('/Users/dongyokim/main/jupyter/chromedriver/chromedriver')\n",
    "    \n",
    "#     # 윈도우 \n",
    "#     driver = webdriver.Chrome('C:/Users/Innovation/Desktop/김동요/크롬 드라이버/chromedriver', options=chrome_options)\n",
    "    \n",
    "    \n",
    "    \n",
    "    \n",
    "    \n",
    "    driver.set_window_size(1000, 1000)\n",
    " \n",
    "    \n",
    "    driver.get('https://www.glowpick.com/searches/keywords')\n",
    "\n",
    "    time.sleep(10)\n",
    "    search = driver.find_element(By.CSS_SELECTOR, '#default-layout > div > div.glowpick-layer > div > div > div > input')\n",
    "\n",
    "    # 카테고리 이름 입력 \n",
    "    search.send_keys(keyword_name)\n",
    "\n",
    "    time.sleep(20)\n",
    "\n",
    "    # 엔터\n",
    "    search.send_keys(Keys.ENTER)\n",
    "    \n",
    "    time.sleep(15)\n",
    "    \n",
    "    # 원하는 위치 스크롤 내리기  \n",
    "    # finish_line = 스킨 40000 기준: 360 개\n",
    "    2120\n",
    "    # 로션 40000 기준: 360개\n",
    "    # 크림 40000 기준: 340\n",
    "    finish_line = 230000\n",
    "    last_page_height = driver.execute_script(\"return document.documentElement.scrollHeight\")\n",
    "\n",
    "\n",
    "    while True:\n",
    "        # 우선 스크롤 내리기\n",
    "        driver.execute_script(\"window.scrollTo(0, document.documentElement.scrollHeight);\")\n",
    "        time.sleep(0.5)       # 작업 중간에 1이상으로 간격을 줘야 데이터 취득가능(스크롤을 내릴 때의 데이터 로딩 시간 때문)\n",
    "        # 현재 위치 담기\n",
    "        new_page_height = driver.execute_script(\"return document.documentElement.scrollHeight\")\n",
    "\n",
    "        # 과거의 길이와 현재 위치 비교하기\n",
    "        if new_page_height >=  finish_line:\n",
    "            break\n",
    "        \n",
    "        \n",
    "        else: \n",
    "            last_page_height = new_page_height\n",
    "\n",
    "\n",
    "    # 스크롤을 내린 후에 모든 상품들의 코드를 담은 리스트 find \n",
    "    time.sleep(0.5)\n",
    "    products_code = driver.find_elements(By.CSS_SELECTOR, 'div.products__product')\n",
    "    time.sleep(0.5)\n",
    "    print('#### 총 {}개의 제품의 상품 코드가 추출되었습니다. ###### '.format(len(products_code)))\n",
    "    total_code = []\n",
    "\n",
    "    # 반복문 돌려서 각각 제품의 id만 추추(product-#####) -을 기준으로 split으로 쪼갠다음에 번호만 뽑아내자\n",
    "    for code in products_code:\n",
    "        product_id = code.get_attribute('id').split('-')[1]\n",
    "        total_code.append(product_id)\n",
    "    \n",
    "    print('####### 키워드 = \"{}\"의 상품 코드 크롤링을 종료합니다. ########'.format(keyword_name))\n",
    "    print('------------------------------------------------')\n",
    "    print()\n",
    "    driver.quit()\n",
    "    \n",
    "    return total_code"
   ]
  },
  {
   "cell_type": "code",
   "execution_count": 62,
   "id": "4ed9120b",
   "metadata": {
    "scrolled": true
   },
   "outputs": [
    {
     "name": "stdout",
     "output_type": "stream",
     "text": [
      "##### 키워드 = \"로션/에멀젼\"의 상품 코드 추출을 시작합니다. ########\n"
     ]
    },
    {
     "name": "stderr",
     "output_type": "stream",
     "text": [
      "C:\\Users\\Public\\Documents\\ESTsoft\\CreatorTemp\\ipykernel_2996\\2891373592.py:13: DeprecationWarning: executable_path has been deprecated, please pass in a Service object\n",
      "  driver = webdriver.Chrome('C:/Users/Innovation/Desktop/김동요/크롬 드라이버/chromedriver', options=chrome_options)\n"
     ]
    },
    {
     "name": "stdout",
     "output_type": "stream",
     "text": [
      "#### 총 2080개의 제품의 상품 코드가 추출되었습니다. ###### \n",
      "####### 키워드 = \"로션/에멀젼\"의 상품 코드 크롤링을 종료합니다. ########\n",
      "------------------------------------------------\n",
      "\n"
     ]
    }
   ],
   "source": [
    "# 각 키워드 설정 \n",
    "category_name = ['로션/에멀젼']\n",
    "\n",
    "total_product_code_data = []\n",
    "for name in category_name:\n",
    "\n",
    "    product_code_data = KewordProductCodeCrawling(name)\n",
    "    total_product_code_data.append(product_code_data)\n"
   ]
  },
  {
   "cell_type": "code",
   "execution_count": 63,
   "id": "a5e606ca",
   "metadata": {},
   "outputs": [
    {
     "data": {
      "text/plain": [
       "2080"
      ]
     },
     "execution_count": 63,
     "metadata": {},
     "output_type": "execute_result"
    }
   ],
   "source": [
    "len(total_product_code_data[0])"
   ]
  },
  {
   "cell_type": "code",
   "execution_count": 64,
   "id": "7e137e35",
   "metadata": {},
   "outputs": [],
   "source": [
    "# 딕셔너리 형태로 저장\n",
    "product_code_dic = {'로션/에멀젼': total_product_code_data[0]}"
   ]
  },
  {
   "cell_type": "code",
   "execution_count": 66,
   "id": "baa1fc83",
   "metadata": {},
   "outputs": [],
   "source": [
    "# 미리 리스트 저장 (다시 크롤링하는 일 방지)\n",
    "with open('code_list(로션,에멀젼).pkl','wb') as f:\n",
    "    pickle.dump(product_code_dic,f)"
   ]
  },
  {
   "cell_type": "code",
   "execution_count": 23,
   "id": "7c0ab414",
   "metadata": {},
   "outputs": [],
   "source": [
    "# 다시 불러오기 \n",
    "with open('code_list(스킨,토너).pkl','rb') as f:\n",
    "    code_list = pickle.load(f)"
   ]
  },
  {
   "cell_type": "code",
   "execution_count": 7,
   "id": "4e5a1963",
   "metadata": {},
   "outputs": [],
   "source": [
    "# 다시 불러오기 \n",
    "with open('code_list(로션,에멀젼).pkl','rb') as f:\n",
    "    code_list2 = pickle.load(f)"
   ]
  },
  {
   "cell_type": "markdown",
   "id": "6aafedba",
   "metadata": {},
   "source": [
    "## 2. 상품 정보 추출"
   ]
  },
  {
   "cell_type": "code",
   "execution_count": 24,
   "id": "5f9f2f73",
   "metadata": {},
   "outputs": [],
   "source": [
    "def GlowPickCrawling(code_dic): \n",
    "    \n",
    "\n",
    "    driver = webdriver.Chrome('/Users/dongyokim/main/jupyter/chromedriver/chromedriver')\n",
    "    driver.set_window_size(1000, 1000)\n",
    "    \n",
    "    key_name = list(code_list.keys())[0]\n",
    "    \n",
    "    total_product_list = []\n",
    "    print('##################')\n",
    "    print('글로우픽 화장품 정보 크롤링을 시작합니다.')\n",
    "    print('###### 카테고리 = {}의 상품 정보를 추출합니다. ######'.format(key_name))\n",
    "    \n",
    "    for i in code_dic[key_name]:\n",
    "        driver.get('https://www.glowpick.com/products/{}'.format(i))\n",
    "        time.sleep(1)\n",
    "\n",
    "        # 화장품 기초 정보\n",
    "        try:\n",
    "            product_brand_name = driver.find_element(By.CSS_SELECTOR, 'p.product__summary__brand').text\n",
    "        except:\n",
    "            continue\n",
    "\n",
    "        # 화장품 이름(없을 시 바로 다음 페이지로 이동)\n",
    "        try:\n",
    "            product_name = driver.find_element(By.CSS_SELECTOR, 'p.product__summary__name').text\n",
    "        except:\n",
    "            continue\n",
    "            \n",
    "\n",
    "        try:\n",
    "            product_volume = driver.find_element(By.CSS_SELECTOR, 'p.product__summary__offer.offer > span.offer__volume-price.font-spoqa').text.split('/')[0]\n",
    "        except:\n",
    "            product_volume = ''\n",
    "        try:\n",
    "            product_price = driver.find_element(By.CSS_SELECTOR, 'p.product__summary__offer.offer > span.offer__volume-price.font-spoqa').text.split('/')[1]\n",
    "        except:\n",
    "            product_price = ''\n",
    "        try:\n",
    "            product_rating = driver.find_element(By.CSS_SELECTOR, 'p.product__summary__offer.offer > span.offer__rating-review > span.stars.offer__stars > span.stars__rating').text\n",
    "        except:\n",
    "            product_rating = ''\n",
    "        try:\n",
    "            product_review_count = driver.find_element(By.CSS_SELECTOR, 'p.product__summary__offer.offer > span.offer__rating-review > span.offer__reviews').text.split(' ')[1]\n",
    "        except:\n",
    "            product_review_count = ''\n",
    "\n",
    "        # 화장품 상세정보 \n",
    "        try:\n",
    "            # 화장품 종류\n",
    "            product_category = driver.find_element(By.CSS_SELECTOR, 'div.product__info.info > article.info__article.rank-pd > ul > li:nth-child(1) > span.rank-item__name').text\n",
    "        except:\n",
    "            product_category = ''\n",
    "\n",
    "        try:\n",
    "            # 카테고리 내 순위 \n",
    "            product_category_rank = driver.find_element(By.CSS_SELECTOR, 'div.product__info.info > article.info__article.rank-pd > ul > li:nth-child(1) > span.rank-item__rank').text\n",
    "        except:\n",
    "            product_category_rank = ''\n",
    "\n",
    "        try:\n",
    "            # 브랜드 내 순위\n",
    "            product_brand_rank = driver.find_element(By.CSS_SELECTOR, 'div.product__info.info > article.info__article.rank-pd > ul > li:nth-child(2) > span.rank-item__rank').text\n",
    "        except:\n",
    "            product_brand_rank = ''\n",
    "\n",
    "\n",
    "        try:\n",
    "            # 제품 설명\n",
    "            product_description = driver.find_element(By.CSS_SELECTOR, 'article.info__article.description > div > pre').text\n",
    "        except:\n",
    "            product_description = ''\n",
    "\n",
    "        try:\n",
    "            # 제품 만족도 \n",
    "            product_ratings_value = driver.find_element(By.CSS_SELECTOR, 'div.reviews__summary__ratings.ratings > p.ratings__value > span.ratings__value__ratio.font-spoqa').text\n",
    "        except:\n",
    "            product_ratings_value = ''\n",
    "        \n",
    "        # 성분구성표 클릭 \n",
    "        try:\n",
    "            ingredient_click = driver.find_element(By.CSS_SELECTOR, 'div.product__info.info > article.info__article.ingredient > h3 > button')\n",
    "            time.sleep(0.5)\n",
    "            ingredient_click.send_keys(Keys.ENTER)\n",
    "        \n",
    "\n",
    "            # 각 위험도별 성분 개수 \n",
    "            unknown_ingredient_count = driver.find_element(By.CSS_SELECTOR, 'div.details__contents.awards > div > article:nth-child(1) > div > div:nth-child(1) > div > span').text\n",
    "            low_ingredient_count = driver.find_element(By.CSS_SELECTOR, 'div.details__contents.awards > div > article:nth-child(1) > div > div:nth-child(2) > div > span').text\n",
    "            middle_ingredient_count = driver.find_element(By.CSS_SELECTOR, 'div.details__contents.awards > div > article:nth-child(1) > div > div:nth-child(3) > div > span').text\n",
    "            high_ingredient_count = driver.find_element(By.CSS_SELECTOR, 'div.details__contents.awards > div > article:nth-child(1) > div > div:nth-child(4) > div > span').text\n",
    "\n",
    "            # 세부 성분 이름 \n",
    "            ingredient_list = driver.find_elements(By.CSS_SELECTOR, 'div.details__contents.awards > div > ul > li')\n",
    "            ingredient_name_list = []\n",
    "            for ingredient in ingredient_list:\n",
    "                kor_name = ingredient.find_element(By.CSS_SELECTOR, 'div > div.item__wrapper__text > p.item__wrapper__text__kor').text    \n",
    "                ingredient_name_list.append(kor_name)\n",
    "                \n",
    "        except:\n",
    "            unknown_ingredient_count = ''\n",
    "            low_ingredient_count = ''\n",
    "            middle_ingredient_count = ''\n",
    "            high_ingredient_count = ''\n",
    "            ingredient_name_list = ''\n",
    "        \n",
    "        \n",
    "            \n",
    "        total_product_list.append([product_name, product_brand_name, product_brand_rank,product_volume, product_price,  product_rating, product_ratings_value, product_review_count, key_name,product_category, product_category_rank,  \n",
    "                                   unknown_ingredient_count, low_ingredient_count, middle_ingredient_count,high_ingredient_count, \n",
    "                                   ingredient_name_list,product_description])\n",
    "        \n",
    "        time.sleep(0.5)\n",
    "    driver.quit() \n",
    "    print('###########################')\n",
    "    print('{}개의 키워드 = \"{}\"의 상품 정보 수집 완료'.format(len(code_dic[key_name]), key_name))\n",
    "    print('chrome driver를 종료합니다.')\n",
    "    print('###########################')\n",
    "    print('----------------------------')\n",
    "    driver.quit()\n",
    "    \n",
    "    \n",
    "    df = pd.DataFrame(data=total_product_list, columns=['화장품명', '브랜드명', '브랜드 내 순위', '용량', '가격', '평점', '만족도', '리뷰 수', '키워드 카테고리','카테고리', '카테고리 내 순위', \n",
    "                                                        '위험도 미정 성분 개수', \n",
    "                                                        '낮은 위험도 성분 개수', '중간 위험도 성분 개수', '높은 위험도 성분 개수','구성 성분 리스트','제품 설명'])\n",
    "    \n",
    "\n",
    "    return df"
   ]
  },
  {
   "cell_type": "code",
   "execution_count": 25,
   "id": "beb0dcc2",
   "metadata": {},
   "outputs": [
    {
     "name": "stdout",
     "output_type": "stream",
     "text": [
      "##################\n",
      "글로우픽 화장품 정보 크롤링을 시작합니다.\n",
      "###### 카테고리 = 스킨/토너의 상품 정보를 추출합니다. ######\n"
     ]
    },
    {
     "ename": "WebDriverException",
     "evalue": "Message: unknown error: net::ERR_INTERNET_DISCONNECTED\n  (Session info: chrome=106.0.5249.119)\n",
     "output_type": "error",
     "traceback": [
      "\u001b[0;31m---------------------------------------------------------------------------\u001b[0m",
      "\u001b[0;31mWebDriverException\u001b[0m                        Traceback (most recent call last)",
      "Input \u001b[0;32mIn [25]\u001b[0m, in \u001b[0;36m<module>\u001b[0;34m\u001b[0m\n\u001b[0;32m----> 1\u001b[0m data \u001b[38;5;241m=\u001b[39m \u001b[43mGlowPickCrawling\u001b[49m\u001b[43m(\u001b[49m\u001b[43mcode_list\u001b[49m\u001b[43m)\u001b[49m\n",
      "Input \u001b[0;32mIn [24]\u001b[0m, in \u001b[0;36mGlowPickCrawling\u001b[0;34m(code_dic)\u001b[0m\n\u001b[1;32m     12\u001b[0m \u001b[38;5;28mprint\u001b[39m(\u001b[38;5;124m'\u001b[39m\u001b[38;5;124m###### 카테고리 = \u001b[39m\u001b[38;5;132;01m{}\u001b[39;00m\u001b[38;5;124m의 상품 정보를 추출합니다. ######\u001b[39m\u001b[38;5;124m'\u001b[39m\u001b[38;5;241m.\u001b[39mformat(key_name))\n\u001b[1;32m     14\u001b[0m \u001b[38;5;28;01mfor\u001b[39;00m i \u001b[38;5;129;01min\u001b[39;00m code_dic[key_name]:\n\u001b[0;32m---> 15\u001b[0m     \u001b[43mdriver\u001b[49m\u001b[38;5;241;43m.\u001b[39;49m\u001b[43mget\u001b[49m\u001b[43m(\u001b[49m\u001b[38;5;124;43m'\u001b[39;49m\u001b[38;5;124;43mhttps://www.glowpick.com/products/\u001b[39;49m\u001b[38;5;132;43;01m{}\u001b[39;49;00m\u001b[38;5;124;43m'\u001b[39;49m\u001b[38;5;241;43m.\u001b[39;49m\u001b[43mformat\u001b[49m\u001b[43m(\u001b[49m\u001b[43mi\u001b[49m\u001b[43m)\u001b[49m\u001b[43m)\u001b[49m\n\u001b[1;32m     16\u001b[0m     time\u001b[38;5;241m.\u001b[39msleep(\u001b[38;5;241m1\u001b[39m)\n\u001b[1;32m     18\u001b[0m     \u001b[38;5;66;03m# 화장품 기초 정보\u001b[39;00m\n",
      "File \u001b[0;32m~/miniforge3/envs/crawl/lib/python3.9/site-packages/selenium/webdriver/remote/webdriver.py:333\u001b[0m, in \u001b[0;36mWebDriver.get\u001b[0;34m(self, url)\u001b[0m\n\u001b[1;32m    329\u001b[0m \u001b[38;5;28;01mdef\u001b[39;00m \u001b[38;5;21mget\u001b[39m(\u001b[38;5;28mself\u001b[39m, url):\n\u001b[1;32m    330\u001b[0m     \u001b[38;5;124;03m\"\"\"\u001b[39;00m\n\u001b[1;32m    331\u001b[0m \u001b[38;5;124;03m    Loads a web page in the current browser session.\u001b[39;00m\n\u001b[1;32m    332\u001b[0m \u001b[38;5;124;03m    \"\"\"\u001b[39;00m\n\u001b[0;32m--> 333\u001b[0m     \u001b[38;5;28;43mself\u001b[39;49m\u001b[38;5;241;43m.\u001b[39;49m\u001b[43mexecute\u001b[49m\u001b[43m(\u001b[49m\u001b[43mCommand\u001b[49m\u001b[38;5;241;43m.\u001b[39;49m\u001b[43mGET\u001b[49m\u001b[43m,\u001b[49m\u001b[43m \u001b[49m\u001b[43m{\u001b[49m\u001b[38;5;124;43m'\u001b[39;49m\u001b[38;5;124;43murl\u001b[39;49m\u001b[38;5;124;43m'\u001b[39;49m\u001b[43m:\u001b[49m\u001b[43m \u001b[49m\u001b[43murl\u001b[49m\u001b[43m}\u001b[49m\u001b[43m)\u001b[49m\n",
      "File \u001b[0;32m~/miniforge3/envs/crawl/lib/python3.9/site-packages/selenium/webdriver/remote/webdriver.py:321\u001b[0m, in \u001b[0;36mWebDriver.execute\u001b[0;34m(self, driver_command, params)\u001b[0m\n\u001b[1;32m    319\u001b[0m response \u001b[38;5;241m=\u001b[39m \u001b[38;5;28mself\u001b[39m\u001b[38;5;241m.\u001b[39mcommand_executor\u001b[38;5;241m.\u001b[39mexecute(driver_command, params)\n\u001b[1;32m    320\u001b[0m \u001b[38;5;28;01mif\u001b[39;00m response:\n\u001b[0;32m--> 321\u001b[0m     \u001b[38;5;28;43mself\u001b[39;49m\u001b[38;5;241;43m.\u001b[39;49m\u001b[43merror_handler\u001b[49m\u001b[38;5;241;43m.\u001b[39;49m\u001b[43mcheck_response\u001b[49m\u001b[43m(\u001b[49m\u001b[43mresponse\u001b[49m\u001b[43m)\u001b[49m\n\u001b[1;32m    322\u001b[0m     response[\u001b[38;5;124m'\u001b[39m\u001b[38;5;124mvalue\u001b[39m\u001b[38;5;124m'\u001b[39m] \u001b[38;5;241m=\u001b[39m \u001b[38;5;28mself\u001b[39m\u001b[38;5;241m.\u001b[39m_unwrap_value(\n\u001b[1;32m    323\u001b[0m         response\u001b[38;5;241m.\u001b[39mget(\u001b[38;5;124m'\u001b[39m\u001b[38;5;124mvalue\u001b[39m\u001b[38;5;124m'\u001b[39m, \u001b[38;5;28;01mNone\u001b[39;00m))\n\u001b[1;32m    324\u001b[0m     \u001b[38;5;28;01mreturn\u001b[39;00m response\n",
      "File \u001b[0;32m~/miniforge3/envs/crawl/lib/python3.9/site-packages/selenium/webdriver/remote/errorhandler.py:242\u001b[0m, in \u001b[0;36mErrorHandler.check_response\u001b[0;34m(self, response)\u001b[0m\n\u001b[1;32m    240\u001b[0m         alert_text \u001b[38;5;241m=\u001b[39m value[\u001b[38;5;124m'\u001b[39m\u001b[38;5;124malert\u001b[39m\u001b[38;5;124m'\u001b[39m]\u001b[38;5;241m.\u001b[39mget(\u001b[38;5;124m'\u001b[39m\u001b[38;5;124mtext\u001b[39m\u001b[38;5;124m'\u001b[39m)\n\u001b[1;32m    241\u001b[0m     \u001b[38;5;28;01mraise\u001b[39;00m exception_class(message, screen, stacktrace, alert_text)\n\u001b[0;32m--> 242\u001b[0m \u001b[38;5;28;01mraise\u001b[39;00m exception_class(message, screen, stacktrace)\n",
      "\u001b[0;31mWebDriverException\u001b[0m: Message: unknown error: net::ERR_INTERNET_DISCONNECTED\n  (Session info: chrome=106.0.5249.119)\n"
     ]
    }
   ],
   "source": [
    "data = GlowPickCrawling(code_list)"
   ]
  },
  {
   "cell_type": "code",
   "execution_count": null,
   "id": "bb274455",
   "metadata": {},
   "outputs": [],
   "source": [
    "data.head()"
   ]
  },
  {
   "cell_type": "code",
   "execution_count": null,
   "id": "a162da40",
   "metadata": {},
   "outputs": [],
   "source": [
    "data.isnull().sum()"
   ]
  },
  {
   "cell_type": "code",
   "execution_count": null,
   "id": "30106225",
   "metadata": {},
   "outputs": [],
   "source": [
    "# 현재 날짜 기준으로 저장\n",
    "today_date = datetime.today().strftime(\"%Y_%m_%d\") \n",
    "\n",
    "# 데이터를 원하는 형식으로 저장(csv일 경우 to_csv)\n",
    "data.to_excel('GlowPic_dataset_스킨,토너{}.xlsx'.format(today_date))"
   ]
  },
  {
   "cell_type": "code",
   "execution_count": null,
   "id": "a22f8f04",
   "metadata": {},
   "outputs": [],
   "source": []
  }
 ],
 "metadata": {
  "kernelspec": {
   "display_name": "Python 3 (ipykernel)",
   "language": "python",
   "name": "python3"
  },
  "language_info": {
   "codemirror_mode": {
    "name": "ipython",
    "version": 3
   },
   "file_extension": ".py",
   "mimetype": "text/x-python",
   "name": "python",
   "nbconvert_exporter": "python",
   "pygments_lexer": "ipython3",
   "version": "3.9.12"
  }
 },
 "nbformat": 4,
 "nbformat_minor": 5
}
