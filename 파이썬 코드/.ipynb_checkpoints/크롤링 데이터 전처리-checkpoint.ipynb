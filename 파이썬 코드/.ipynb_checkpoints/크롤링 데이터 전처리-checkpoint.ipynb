{
 "cells": [
  {
   "cell_type": "code",
   "execution_count": 287,
   "id": "b103bd20",
   "metadata": {},
   "outputs": [],
   "source": [
    "import pandas as pd\n",
    "import numpy as np"
   ]
  },
  {
   "cell_type": "markdown",
   "id": "d7957ad5",
   "metadata": {},
   "source": [
    "## 1. 데이터 불러오기"
   ]
  },
  {
   "cell_type": "code",
   "execution_count": 268,
   "id": "75fb5617",
   "metadata": {},
   "outputs": [],
   "source": [
    "data_cleansing = pd.read_excel('/Users/dongyokim/main/jupyter/2022:2/cosmetic_project/데이터/크롤링 데이터/GlowPic_dataset_클렌징2022_10_27.xlsx', index_col=0)\n",
    "\n",
    "data_sun_cream = pd.read_excel('/Users/dongyokim/main/jupyter/2022:2/cosmetic_project/데이터/크롤링 데이터/GlowPic_dataset_선크림2022_11_04.xlsx', index_col=0)\n",
    "\n",
    "data_cream = pd.read_excel('/Users/dongyokim/main/jupyter/2022:2/cosmetic_project/데이터/크롤링 데이터/GlowPic_dataset_크림2022_10_30.xlsx', index_col=0)\n",
    "\n",
    "data_skin = pd.read_excel('/Users/dongyokim/main/jupyter/2022:2/cosmetic_project/데이터/크롤링 데이터/GlowPic_dataset_스킨,토너2022_11_04.xlsx', index_col=0)\n",
    "\n",
    "data_lotion = pd.read_excel('/Users/dongyokim/main/jupyter/2022:2/cosmetic_project/데이터/크롤링 데이터/GlowPic_dataset_로션,에멀젼2022_11_03.xlsx', index_col=0)\n"
   ]
  },
  {
   "cell_type": "code",
   "execution_count": 269,
   "id": "6245642d",
   "metadata": {},
   "outputs": [],
   "source": [
    "# 행을 기준으로 다 병합 \n",
    "total_data = pd.concat([data_cream, data_sun_cream, data_skin, data_lotion, data_cleansing])"
   ]
  },
  {
   "cell_type": "code",
   "execution_count": 270,
   "id": "7e0c7742",
   "metadata": {},
   "outputs": [],
   "source": [
    "# 엑셀로 저장\n",
    "total_data.to_excel('상품 정보 데이터 총 합본(전처리전 병합만).xlsx', index=False)"
   ]
  },
  {
   "cell_type": "code",
   "execution_count": 271,
   "id": "a0b851a3",
   "metadata": {},
   "outputs": [],
   "source": [
    "# 저장한 파일 불러오기 \n",
    "total_data = pd.read_excel('상품 정보 데이터 총 합본(전처리전 병합만).xlsx')"
   ]
  },
  {
   "cell_type": "markdown",
   "id": "e217185f",
   "metadata": {},
   "source": [
    "## 2. 데이터 전처리"
   ]
  },
  {
   "cell_type": "markdown",
   "id": "fdd8cc9b",
   "metadata": {},
   "source": [
    "### 2-1 기본 전처리 자동화"
   ]
  },
  {
   "cell_type": "code",
   "execution_count": 272,
   "id": "25912f73",
   "metadata": {},
   "outputs": [],
   "source": [
    "# 자동으로 전처리해주는 함수 구현 \n",
    "def preprocessing(data):\n",
    "    \n",
    "    # 중복 삭제 \n",
    "    data.drop_duplicates(subset='화장품명',keep='first', inplace=True)\n",
    "    \n",
    "    # 성분 개수 열 \n",
    "    ingredient_count_feature = ['위험도 미정 성분 개수', '낮은 위험도 성분 개수', '중간 위험도 성분 개수', '높은 위험도 성분 개수']\n",
    "\n",
    "    # 순위 관련 열 \n",
    "    rank_feature = ['브랜드 내 순위', '카테고리 내 순위']\n",
    "    \n",
    "    # \"개\"라고 붙은 데이터 정수형으로 변환\n",
    "    for feature in ingredient_count_feature:\n",
    "        data[feature] = data[feature].apply(lambda x : int(x[:-1]))\n",
    "        \n",
    "    # 화장품 명 없는 행 삭제\n",
    "    data.drop(data[data['화장품명'].isnull()].index, inplace=True)    \n",
    "    \n",
    "    # 화장품 명 앞에 (단종)인 데이터 삭제 \n",
    "    data.drop(data[data['화장품명'].str.contains('(단종)')].index, inplace=True)    \n",
    "    \n",
    "    # 1mg가 1g 화장품 용량 단위 조정\n",
    "    # 아직 해결 불가 \n",
    "    \n",
    "    # 가격이 \"가격미정\"인 행 삭제\n",
    "    data.drop(data[data['가격']==' 가격미정'].index, inplace=True)\n",
    "    \n",
    "    # 가격 \"원\" 빼주고 정수형으로 변환(연속형)\n",
    "    data['가격'] = data['가격'].apply(lambda x : int(x[:-1].replace(',', '').strip())) \n",
    "    \n",
    "    # 만족도 '%\" 제거후 정수형으로 변환(불연속형)\n",
    "    data['만족도'] = data['만족도'].apply(lambda x : int(x[:-1]))\n",
    "    \n",
    "    \n",
    "    # 순위 \"위\" 빼주고 정수형으로 변환(불연속형)-> Nan 값은 \"순위 없음\"으로 변경\n",
    "    for feature in rank_feature:\n",
    "        data[feature].fillna(0, inplace=True)\n",
    "        data[feature] = data[feature].apply(lambda x : int(x[:-1]) if x != 0 else '순위 없음')\n",
    "    \n",
    "    # 카테고리 비어있는 값 \"카테고리 미정\"으로 변경\n",
    "    data['카테고리'].fillna(0, inplace=True)\n",
    "    data['카테고리'] = data['카테고리'].apply(lambda x : '카테고리 미정' if x == 0 else x)\n",
    "    \n",
    "    # 리뷰수 데이터 정수형으로 변경\n",
    "    data['리뷰 수'] = data['리뷰 수'].apply(lambda x : int(x.replace(',', '').strip()))    \n",
    "    \n",
    "    # 성분 개수 열을 모두 더해서 \"총 성분 개수\" 열을 만든 다음에 값이 0인 행(성분이 하나도 없다는 뜻) 모두 삭제\n",
    "    data['총 성분 개수'] = data['위험도 미정 성분 개수'] + data['낮은 위험도 성분 개수'] + data['중간 위험도 성분 개수'] + data['높은 위험도 성분 개수']      \n",
    "    \n",
    "    # 총 성분 개수가 0인 데이터 행 삭제\n",
    "    data.drop(data[data['총 성분 개수']==0].index, inplace=True)\n",
    "    \n",
    "    # Null 값이 있는 행 삭제\n",
    "    data.dropna(inplace= True)\n",
    "    \n",
    "    # 인덱스 초기화 \n",
    "    data.reset_index(drop=True, inplace=True)    \n",
    "    \n",
    "    \n",
    "    return data "
   ]
  },
  {
   "cell_type": "code",
   "execution_count": 273,
   "id": "ad0b7c68",
   "metadata": {},
   "outputs": [
    {
     "name": "stderr",
     "output_type": "stream",
     "text": [
      "/var/folders/7d/bm3zqtjx7xsb__yxj254h7kh0000gn/T/ipykernel_70967/57818635.py:21: UserWarning: This pattern has match groups. To actually get the groups, use str.extract.\n",
      "  data.drop(data[data['화장품명'].str.contains('(단종)')].index, inplace=True)\n"
     ]
    }
   ],
   "source": [
    "data = preprocessing(total_data)"
   ]
  },
  {
   "cell_type": "code",
   "execution_count": 274,
   "id": "80eee8a2",
   "metadata": {},
   "outputs": [
    {
     "data": {
      "text/html": [
       "<div>\n",
       "<style scoped>\n",
       "    .dataframe tbody tr th:only-of-type {\n",
       "        vertical-align: middle;\n",
       "    }\n",
       "\n",
       "    .dataframe tbody tr th {\n",
       "        vertical-align: top;\n",
       "    }\n",
       "\n",
       "    .dataframe thead th {\n",
       "        text-align: right;\n",
       "    }\n",
       "</style>\n",
       "<table border=\"1\" class=\"dataframe\">\n",
       "  <thead>\n",
       "    <tr style=\"text-align: right;\">\n",
       "      <th></th>\n",
       "      <th>화장품명</th>\n",
       "      <th>브랜드명</th>\n",
       "      <th>브랜드 내 순위</th>\n",
       "      <th>용량</th>\n",
       "      <th>가격</th>\n",
       "      <th>평점</th>\n",
       "      <th>만족도</th>\n",
       "      <th>리뷰 수</th>\n",
       "      <th>카테고리</th>\n",
       "      <th>카테고리 내 순위</th>\n",
       "      <th>위험도 미정 성분 개수</th>\n",
       "      <th>낮은 위험도 성분 개수</th>\n",
       "      <th>중간 위험도 성분 개수</th>\n",
       "      <th>높은 위험도 성분 개수</th>\n",
       "      <th>키워드 카테고리</th>\n",
       "      <th>구성 성분 리스트</th>\n",
       "      <th>제품 설명</th>\n",
       "      <th>총 성분 개수</th>\n",
       "    </tr>\n",
       "  </thead>\n",
       "  <tbody>\n",
       "    <tr>\n",
       "      <th>0</th>\n",
       "      <td>노르딕 버치 에너지 아이밤</td>\n",
       "      <td>시메스</td>\n",
       "      <td>1</td>\n",
       "      <td>10ml</td>\n",
       "      <td>19500</td>\n",
       "      <td>4.70</td>\n",
       "      <td>97</td>\n",
       "      <td>127</td>\n",
       "      <td>아이크림</td>\n",
       "      <td>1</td>\n",
       "      <td>1</td>\n",
       "      <td>33</td>\n",
       "      <td>3</td>\n",
       "      <td>1</td>\n",
       "      <td>크림</td>\n",
       "      <td>['시어버터', '올리브오일', '정제수', '마이크로크리스탈린왁스', '비즈왁스'...</td>\n",
       "      <td>자연 유래 성분으로 케어하는 링클스팟\\n\\n- 핀란드산 자작나무잎추출물은 진정과 항...</td>\n",
       "      <td>38</td>\n",
       "    </tr>\n",
       "    <tr>\n",
       "      <th>1</th>\n",
       "      <td>더블 베리어 크림</td>\n",
       "      <td>큐어코드</td>\n",
       "      <td>2</td>\n",
       "      <td>80ml</td>\n",
       "      <td>38000</td>\n",
       "      <td>4.71</td>\n",
       "      <td>98</td>\n",
       "      <td>94</td>\n",
       "      <td>보습크림</td>\n",
       "      <td>1</td>\n",
       "      <td>4</td>\n",
       "      <td>25</td>\n",
       "      <td>0</td>\n",
       "      <td>0</td>\n",
       "      <td>크림</td>\n",
       "      <td>['정제수', '글리세린', '펜틸렌글라이콜', '카프릴릭/카프릭트라이글리세라이드'...</td>\n",
       "      <td>뉴로마이드와 MES 보호막으로 피부 장벽을 탄탄하고 건강하게!\\n\\n- 피부 속 세...</td>\n",
       "      <td>29</td>\n",
       "    </tr>\n",
       "    <tr>\n",
       "      <th>2</th>\n",
       "      <td>모이스처 밸런싱 크림</td>\n",
       "      <td>백아율</td>\n",
       "      <td>2</td>\n",
       "      <td>50ml</td>\n",
       "      <td>32000</td>\n",
       "      <td>4.67</td>\n",
       "      <td>96</td>\n",
       "      <td>224</td>\n",
       "      <td>수분크림</td>\n",
       "      <td>1</td>\n",
       "      <td>3</td>\n",
       "      <td>43</td>\n",
       "      <td>4</td>\n",
       "      <td>2</td>\n",
       "      <td>크림</td>\n",
       "      <td>['정제수', '글리세린', '부틸렌글라이콜', '하이드로제네이티드폴리데센', '펜...</td>\n",
       "      <td>닿는 순간 착, 쫀쫀한 찰떡 수분크림\\n\\n- 과학적으로 설계한 겔 속 수분과 영양...</td>\n",
       "      <td>52</td>\n",
       "    </tr>\n",
       "    <tr>\n",
       "      <th>3</th>\n",
       "      <td>리바이탈라이징 수프림 플러스 유스 파워 크림</td>\n",
       "      <td>에스티 로더</td>\n",
       "      <td>1</td>\n",
       "      <td>50ml</td>\n",
       "      <td>150000</td>\n",
       "      <td>4.71</td>\n",
       "      <td>99</td>\n",
       "      <td>84</td>\n",
       "      <td>안티에이징크림</td>\n",
       "      <td>1</td>\n",
       "      <td>2</td>\n",
       "      <td>42</td>\n",
       "      <td>12</td>\n",
       "      <td>1</td>\n",
       "      <td>크림</td>\n",
       "      <td>['정제수', '다이메티콘', '글리세린', '아이소헥사데칸', '부틸렌글라이콜',...</td>\n",
       "      <td>깊은 보습감으로 피부 본연의 힘을 강화시켜 속부터 탄탄하게 차오르는 피부\\n\\n- ...</td>\n",
       "      <td>57</td>\n",
       "    </tr>\n",
       "    <tr>\n",
       "      <th>4</th>\n",
       "      <td>워터풀 히알루론산 크림</td>\n",
       "      <td>주미소</td>\n",
       "      <td>1</td>\n",
       "      <td>50g</td>\n",
       "      <td>24000</td>\n",
       "      <td>4.61</td>\n",
       "      <td>95</td>\n",
       "      <td>713</td>\n",
       "      <td>수분크림</td>\n",
       "      <td>2</td>\n",
       "      <td>3</td>\n",
       "      <td>33</td>\n",
       "      <td>0</td>\n",
       "      <td>0</td>\n",
       "      <td>크림</td>\n",
       "      <td>['정제수', '부틸렌글라이콜', '글리세린', '카프릴릴메티콘', '펜틸렌글라이콜...</td>\n",
       "      <td>피부 갈증을 채우는 #수분길크림\\n\\n- 3중 히알루론산으로 피부 깊숙한 곳 부터 ...</td>\n",
       "      <td>36</td>\n",
       "    </tr>\n",
       "  </tbody>\n",
       "</table>\n",
       "</div>"
      ],
      "text/plain": [
       "                       화장품명    브랜드명 브랜드 내 순위     용량      가격    평점  만족도 리뷰 수  \\\n",
       "0            노르딕 버치 에너지 아이밤     시메스        1  10ml    19500  4.70   97  127   \n",
       "1                 더블 베리어 크림    큐어코드        2  80ml    38000  4.71   98   94   \n",
       "2               모이스처 밸런싱 크림     백아율        2  50ml    32000  4.67   96  224   \n",
       "3  리바이탈라이징 수프림 플러스 유스 파워 크림  에스티 로더        1  50ml   150000  4.71   99   84   \n",
       "4              워터풀 히알루론산 크림     주미소        1   50g    24000  4.61   95  713   \n",
       "\n",
       "      카테고리 카테고리 내 순위  위험도 미정 성분 개수  낮은 위험도 성분 개수  중간 위험도 성분 개수  높은 위험도 성분 개수  \\\n",
       "0     아이크림         1             1            33             3             1   \n",
       "1     보습크림         1             4            25             0             0   \n",
       "2     수분크림         1             3            43             4             2   \n",
       "3  안티에이징크림         1             2            42            12             1   \n",
       "4     수분크림         2             3            33             0             0   \n",
       "\n",
       "  키워드 카테고리                                          구성 성분 리스트  \\\n",
       "0       크림  ['시어버터', '올리브오일', '정제수', '마이크로크리스탈린왁스', '비즈왁스'...   \n",
       "1       크림  ['정제수', '글리세린', '펜틸렌글라이콜', '카프릴릭/카프릭트라이글리세라이드'...   \n",
       "2       크림  ['정제수', '글리세린', '부틸렌글라이콜', '하이드로제네이티드폴리데센', '펜...   \n",
       "3       크림  ['정제수', '다이메티콘', '글리세린', '아이소헥사데칸', '부틸렌글라이콜',...   \n",
       "4       크림  ['정제수', '부틸렌글라이콜', '글리세린', '카프릴릴메티콘', '펜틸렌글라이콜...   \n",
       "\n",
       "                                               제품 설명  총 성분 개수  \n",
       "0  자연 유래 성분으로 케어하는 링클스팟\\n\\n- 핀란드산 자작나무잎추출물은 진정과 항...       38  \n",
       "1  뉴로마이드와 MES 보호막으로 피부 장벽을 탄탄하고 건강하게!\\n\\n- 피부 속 세...       29  \n",
       "2  닿는 순간 착, 쫀쫀한 찰떡 수분크림\\n\\n- 과학적으로 설계한 겔 속 수분과 영양...       52  \n",
       "3  깊은 보습감으로 피부 본연의 힘을 강화시켜 속부터 탄탄하게 차오르는 피부\\n\\n- ...       57  \n",
       "4  피부 갈증을 채우는 #수분길크림\\n\\n- 3중 히알루론산으로 피부 깊숙한 곳 부터 ...       36  "
      ]
     },
     "execution_count": 274,
     "metadata": {},
     "output_type": "execute_result"
    }
   ],
   "source": [
    "data.head()"
   ]
  },
  {
   "cell_type": "code",
   "execution_count": 259,
   "id": "4b8c54d3",
   "metadata": {},
   "outputs": [],
   "source": [
    "data.to_excel('상품 정보 데이터 총 합본(전처리 완료).xlsx', index=False)"
   ]
  },
  {
   "cell_type": "markdown",
   "id": "277a1cc5",
   "metadata": {},
   "source": [
    "### 2-2 화장품별 성분 데이터셋 구축"
   ]
  },
  {
   "cell_type": "markdown",
   "id": "7efc5ad7",
   "metadata": {},
   "source": [
    "- 화장품 명과 성분만 있는 데이터셋 구축"
   ]
  },
  {
   "cell_type": "code",
   "execution_count": 321,
   "id": "71f01c8c",
   "metadata": {},
   "outputs": [],
   "source": [
    "# 화장품\n",
    "cosmetic_name = data['화장품명']"
   ]
  },
  {
   "cell_type": "code",
   "execution_count": 322,
   "id": "08097eaf",
   "metadata": {
    "scrolled": true
   },
   "outputs": [
    {
     "data": {
      "text/plain": [
       "'노르딕 버치 에너지 아이밤'"
      ]
     },
     "execution_count": 322,
     "metadata": {},
     "output_type": "execute_result"
    }
   ],
   "source": [
    "cosmetic_name[0]"
   ]
  },
  {
   "cell_type": "code",
   "execution_count": 307,
   "id": "74651760",
   "metadata": {},
   "outputs": [],
   "source": [
    "data['구성 성분 리스트'] = data['구성 성분 리스트'].apply(lambda x : np.pad(x.split('\"')[0].split('[')[1].split(']')[0].replace(\"'\", '').replace(' ', '').split(','),(0, data['총 성분 개수'].max()+ 1 -   \n",
    "len(x.split('\"')[0].split('[')[1].split(']')[0].replace(\"'\", '').replace(' ', '').split(','))), 'constant', constant_values=0))"
   ]
  },
  {
   "cell_type": "code",
   "execution_count": 324,
   "id": "f9ab0749",
   "metadata": {},
   "outputs": [],
   "source": [
    "data_list = []\n",
    "for i, name in enumerate(cosmetic_name):\n",
    "    data_list.append(list(data['구성 성분 리스트'].values[i]))"
   ]
  },
  {
   "cell_type": "code",
   "execution_count": 330,
   "id": "3531393e",
   "metadata": {},
   "outputs": [],
   "source": [
    "ingredient_data = pd.DataFrame(data=data_list)\n",
    "ingredient_data['화장품명'] = cosmetic_name\n",
    "ingredient_data.set_index('화장품명', inplace=True)"
   ]
  },
  {
   "cell_type": "code",
   "execution_count": 333,
   "id": "683f9efa",
   "metadata": {},
   "outputs": [],
   "source": [
    "ingredient_data = ingredient_data.transpose()"
   ]
  },
  {
   "cell_type": "code",
   "execution_count": 334,
   "id": "9bbe6807",
   "metadata": {},
   "outputs": [],
   "source": [
    "ingredient_data.to_excel('asda.xlsx', index=False)"
   ]
  },
  {
   "cell_type": "markdown",
   "id": "8b2c5ccb",
   "metadata": {},
   "source": [
    "- 가설: 용량이 낮을수록 화장품 가격이 높아진다."
   ]
  }
 ],
 "metadata": {
  "kernelspec": {
   "display_name": "Python 3 (ipykernel)",
   "language": "python",
   "name": "python3"
  },
  "language_info": {
   "codemirror_mode": {
    "name": "ipython",
    "version": 3
   },
   "file_extension": ".py",
   "mimetype": "text/x-python",
   "name": "python",
   "nbconvert_exporter": "python",
   "pygments_lexer": "ipython3",
   "version": "3.9.7"
  }
 },
 "nbformat": 4,
 "nbformat_minor": 5
}
