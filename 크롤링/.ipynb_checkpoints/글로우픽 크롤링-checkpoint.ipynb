{
 "cells": [
  {
   "cell_type": "code",
   "execution_count": 1,
   "id": "e82118d6",
   "metadata": {},
   "outputs": [],
   "source": [
    "from selenium import webdriver\n",
    "import time\n",
    "from selenium.webdriver.common.keys import Keys\n",
    "from bs4 import BeautifulSoup as bs\n",
    "import pandas as pd\n",
    "\n",
    "# 리스트 로컬에 저장 \n",
    "import pickle\n",
    "\n",
    "from selenium.webdriver.common.keys import Keys\n",
    "from selenium.webdriver.common.by import By\n",
    "from datetime import datetime\n",
    "from selenium.webdriver.chrome.options import Options"
   ]
  },
  {
   "cell_type": "markdown",
   "id": "97bbc239",
   "metadata": {},
   "source": [
    "## 1. 상품 코드 추출"
   ]
  },
  {
   "cell_type": "code",
   "execution_count": 39,
   "id": "ce8c2c1c",
   "metadata": {},
   "outputs": [],
   "source": [
    "def KewordProductCodeCrawling(keyword_name):\n",
    "    print('##### 키워드 = \"{}\"의 상품 코드 추출을 시작합니다. ########'.format(keyword_name))\n",
    "    \n",
    "    \n",
    "       \n",
    "    chrome_options = Options()\n",
    "    chrome_options.add_argument(\"--proxy-server=socks5://127.0.0.1:9150\")\n",
    "    \n",
    "    # 맥북\n",
    "    driver = webdriver.Chrome('/Users/dongyokim/main/jupyter/chromedriver/chromedriver')\n",
    "    \n",
    "#     # 윈도우 \n",
    "#     driver = webdriver.Chrome('C:/Users/Innovation/Desktop/김동요/크롬 드라이버/chromedriver', options=chrome_options)\n",
    "    \n",
    "    \n",
    "    \n",
    "    \n",
    "    \n",
    "    driver.set_window_size(1000, 1000)\n",
    " \n",
    "    \n",
    "    driver.get('https://www.glowpick.com/searches/keywords')\n",
    "\n",
    "    time.sleep(10)\n",
    "    search = driver.find_element(By.CSS_SELECTOR, '#default-layout > div > div.glowpick-layer > div > div > div > input')\n",
    "\n",
    "    # 카테고리 이름 입력 \n",
    "    search.send_keys(keyword_name)\n",
    "\n",
    "    time.sleep(20)\n",
    "\n",
    "    # 엔터\n",
    "    search.send_keys(Keys.ENTER)\n",
    "    \n",
    "    time.sleep(15)\n",
    "    \n",
    "    # 원하는 위치 스크롤 내리기  \n",
    "    # finish_line = 스킨 40000 기준: 360 개\n",
    "    2120\n",
    "    # 로션 40000 기준: 360개\n",
    "    # 크림 40000 기준: 340\n",
    "    finish_line = 230000\n",
    "    last_page_height = driver.execute_script(\"return document.documentElement.scrollHeight\")\n",
    "\n",
    "\n",
    "    while True:\n",
    "        # 우선 스크롤 내리기\n",
    "        driver.execute_script(\"window.scrollTo(0, document.documentElement.scrollHeight);\")\n",
    "        time.sleep(0.5)       # 작업 중간에 1이상으로 간격을 줘야 데이터 취득가능(스크롤을 내릴 때의 데이터 로딩 시간 때문)\n",
    "        # 현재 위치 담기\n",
    "        new_page_height = driver.execute_script(\"return document.documentElement.scrollHeight\")\n",
    "\n",
    "        # 과거의 길이와 현재 위치 비교하기\n",
    "        if new_page_height >=  finish_line:\n",
    "            break\n",
    "        \n",
    "        \n",
    "        else: \n",
    "            last_page_height = new_page_height\n",
    "\n",
    "\n",
    "    # 스크롤을 내린 후에 모든 상품들의 코드를 담은 리스트 find \n",
    "    time.sleep(0.5)\n",
    "    products_code = driver.find_elements(By.CSS_SELECTOR, 'div.products__product')\n",
    "    time.sleep(0.5)\n",
    "    print('#### 총 {}개의 제품의 상품 코드가 추출되었습니다. ###### '.format(len(products_code)))\n",
    "    total_code = []\n",
    "\n",
    "    # 반복문 돌려서 각각 제품의 id만 추추(product-#####) -을 기준으로 split으로 쪼갠다음에 번호만 뽑아내자\n",
    "    for code in products_code:\n",
    "        product_id = code.get_attribute('id').split('-')[1]\n",
    "        total_code.append(product_id)\n",
    "    \n",
    "    print('####### 키워드 = \"{}\"의 상품 코드 크롤링을 종료합니다. ########'.format(keyword_name))\n",
    "    print('------------------------------------------------')\n",
    "    print()\n",
    "    driver.quit()\n",
    "    \n",
    "    return total_code"
   ]
  },
  {
   "cell_type": "code",
   "execution_count": 62,
   "id": "4ed9120b",
   "metadata": {
    "scrolled": true
   },
   "outputs": [
    {
     "name": "stdout",
     "output_type": "stream",
     "text": [
      "##### 키워드 = \"로션/에멀젼\"의 상품 코드 추출을 시작합니다. ########\n"
     ]
    },
    {
     "name": "stderr",
     "output_type": "stream",
     "text": [
      "C:\\Users\\Public\\Documents\\ESTsoft\\CreatorTemp\\ipykernel_2996\\2891373592.py:13: DeprecationWarning: executable_path has been deprecated, please pass in a Service object\n",
      "  driver = webdriver.Chrome('C:/Users/Innovation/Desktop/김동요/크롬 드라이버/chromedriver', options=chrome_options)\n"
     ]
    },
    {
     "name": "stdout",
     "output_type": "stream",
     "text": [
      "#### 총 2080개의 제품의 상품 코드가 추출되었습니다. ###### \n",
      "####### 키워드 = \"로션/에멀젼\"의 상품 코드 크롤링을 종료합니다. ########\n",
      "------------------------------------------------\n",
      "\n"
     ]
    }
   ],
   "source": [
    "# 각 키워드 설정 \n",
    "category_name = ['로션/에멀젼']\n",
    "\n",
    "total_product_code_data = []\n",
    "for name in category_name:\n",
    "\n",
    "    product_code_data = KewordProductCodeCrawling(name)\n",
    "    total_product_code_data.append(product_code_data)\n"
   ]
  },
  {
   "cell_type": "code",
   "execution_count": 63,
   "id": "a5e606ca",
   "metadata": {},
   "outputs": [
    {
     "data": {
      "text/plain": [
       "2080"
      ]
     },
     "execution_count": 63,
     "metadata": {},
     "output_type": "execute_result"
    }
   ],
   "source": [
    "len(total_product_code_data[0])"
   ]
  },
  {
   "cell_type": "code",
   "execution_count": 64,
   "id": "7e137e35",
   "metadata": {},
   "outputs": [],
   "source": [
    "# 딕셔너리 형태로 저장\n",
    "product_code_dic = {'로션/에멀젼': total_product_code_data[0]}"
   ]
  },
  {
   "cell_type": "code",
   "execution_count": 66,
   "id": "baa1fc83",
   "metadata": {},
   "outputs": [],
   "source": [
    "# 미리 리스트 저장 (다시 크롤링하는 일 방지)\n",
    "with open('code_list(로션,에멀젼).pkl','wb') as f:\n",
    "    pickle.dump(product_code_dic,f)"
   ]
  },
  {
   "cell_type": "code",
   "execution_count": 6,
   "id": "7c0ab414",
   "metadata": {},
   "outputs": [],
   "source": [
    "# 다시 불러오기 \n",
    "with open('code_list(스킨,토너).pkl','rb') as f:\n",
    "    code_list1 = pickle.load(f)"
   ]
  },
  {
   "cell_type": "code",
   "execution_count": 7,
   "id": "6d1891a1",
   "metadata": {},
   "outputs": [],
   "source": [
    "# 다시 불러오기 \n",
    "with open('code_list(로션,에멀젼).pkl','rb') as f:\n",
    "    code_list2 = pickle.load(f)"
   ]
  },
  {
   "cell_type": "markdown",
   "id": "6aafedba",
   "metadata": {},
   "source": [
    "## 2. 상품 정보 추출"
   ]
  },
  {
   "cell_type": "code",
   "execution_count": 13,
   "id": "5f9f2f73",
   "metadata": {},
   "outputs": [],
   "source": [
    "def GlowPickCrawling(code_dic): \n",
    "    \n",
    "\n",
    "    driver = webdriver.Chrome('/Users/dongyokim/main/jupyter/chromedriver/chromedriver')\n",
    "    driver.set_window_size(1000, 1000)\n",
    "    \n",
    "    key_name = list(code_list.keys())[0]\n",
    "    \n",
    "    total_product_list = []\n",
    "    print('##################')\n",
    "    print('글로우픽 화장품 정보 크롤링을 시작합니다.')\n",
    "    print('###### 카테고리 = {}의 상품 정보를 추출합니다. ######'.format(key_name))\n",
    "    \n",
    "    for i in code_dic[key_name]:\n",
    "        driver.get('https://www.glowpick.com/products/{}'.format(i))\n",
    "        time.sleep(1)\n",
    "\n",
    "        # 화장품 기초 정보\n",
    "        try:\n",
    "            product_brand_name = driver.find_element(By.CSS_SELECTOR, 'p.product__summary__brand').text\n",
    "        except:\n",
    "            continue\n",
    "\n",
    "        # 화장품 이름(없을 시 바로 다음 페이지로 이동)\n",
    "        try:\n",
    "            product_name = driver.find_element(By.CSS_SELECTOR, 'p.product__summary__name').text\n",
    "        except:\n",
    "            continue\n",
    "            \n",
    "\n",
    "        try:\n",
    "            product_volume = driver.find_element(By.CSS_SELECTOR, 'p.product__summary__offer.offer > span.offer__volume-price.font-spoqa').text.split('/')[0]\n",
    "        except:\n",
    "            product_volume = ''\n",
    "        try:\n",
    "            product_price = driver.find_element(By.CSS_SELECTOR, 'p.product__summary__offer.offer > span.offer__volume-price.font-spoqa').text.split('/')[1]\n",
    "        except:\n",
    "            product_price = ''\n",
    "        try:\n",
    "            product_rating = driver.find_element(By.CSS_SELECTOR, 'p.product__summary__offer.offer > span.offer__rating-review > span.stars.offer__stars > span.stars__rating').text\n",
    "        except:\n",
    "            product_rating = ''\n",
    "        try:\n",
    "            product_review_count = driver.find_element(By.CSS_SELECTOR, 'p.product__summary__offer.offer > span.offer__rating-review > span.offer__reviews').text.split(' ')[1]\n",
    "        except:\n",
    "            product_review_count = ''\n",
    "\n",
    "        # 화장품 상세정보 \n",
    "        try:\n",
    "            # 화장품 종류\n",
    "            product_category = driver.find_element(By.CSS_SELECTOR, 'div.product__info.info > article.info__article.rank-pd > ul > li:nth-child(1) > span.rank-item__name').text\n",
    "        except:\n",
    "            product_category = ''\n",
    "\n",
    "        try:\n",
    "            # 카테고리 내 순위 \n",
    "            product_category_rank = driver.find_element(By.CSS_SELECTOR, 'div.product__info.info > article.info__article.rank-pd > ul > li:nth-child(1) > span.rank-item__rank').text\n",
    "        except:\n",
    "            product_category_rank = ''\n",
    "\n",
    "        try:\n",
    "            # 브랜드 내 순위\n",
    "            product_brand_rank = driver.find_element(By.CSS_SELECTOR, 'div.product__info.info > article.info__article.rank-pd > ul > li:nth-child(2) > span.rank-item__rank').text\n",
    "        except:\n",
    "            product_brand_rank = ''\n",
    "\n",
    "\n",
    "        try:\n",
    "            # 제품 설명\n",
    "            product_description = driver.find_element(By.CSS_SELECTOR, 'article.info__article.description > div > pre').text\n",
    "        except:\n",
    "            product_description = ''\n",
    "\n",
    "        try:\n",
    "            # 제품 만족도 \n",
    "            product_ratings_value = driver.find_element(By.CSS_SELECTOR, 'div.reviews__summary__ratings.ratings > p.ratings__value > span.ratings__value__ratio.font-spoqa').text\n",
    "        except:\n",
    "            product_ratings_value = ''\n",
    "        \n",
    "        # 성분구성표 클릭 \n",
    "        try:\n",
    "            ingredient_click = driver.find_element(By.CSS_SELECTOR, 'div.product__info.info > article.info__article.ingredient > h3 > button')\n",
    "            time.sleep(0.5)\n",
    "            ingredient_click.send_keys(Keys.ENTER)\n",
    "        \n",
    "\n",
    "            # 각 위험도별 성분 개수 \n",
    "            unknown_ingredient_count = driver.find_element(By.CSS_SELECTOR, 'div.details__contents.awards > div > article:nth-child(1) > div > div:nth-child(1) > div > span').text\n",
    "            low_ingredient_count = driver.find_element(By.CSS_SELECTOR, 'div.details__contents.awards > div > article:nth-child(1) > div > div:nth-child(2) > div > span').text\n",
    "            middle_ingredient_count = driver.find_element(By.CSS_SELECTOR, 'div.details__contents.awards > div > article:nth-child(1) > div > div:nth-child(3) > div > span').text\n",
    "            high_ingredient_count = driver.find_element(By.CSS_SELECTOR, 'div.details__contents.awards > div > article:nth-child(1) > div > div:nth-child(4) > div > span').text\n",
    "\n",
    "            # 세부 성분 이름 \n",
    "            ingredient_list = driver.find_elements(By.CSS_SELECTOR, 'div.details__contents.awards > div > ul > li')\n",
    "            ingredient_name_list = []\n",
    "            for ingredient in ingredient_list:\n",
    "                kor_name = ingredient.find_element(By.CSS_SELECTOR, 'div > div.item__wrapper__text > p.item__wrapper__text__kor').text    \n",
    "                ingredient_name_list.append(kor_name)\n",
    "                \n",
    "        except:\n",
    "            unknown_ingredient_count = ''\n",
    "            low_ingredient_count = ''\n",
    "            middle_ingredient_count = ''\n",
    "            high_ingredient_count = ''\n",
    "            ingredient_name_list = ''\n",
    "        \n",
    "        \n",
    "            \n",
    "        total_product_list.append([product_name, product_brand_name, product_brand_rank,product_volume, product_price,  product_rating, product_ratings_value, product_review_count, key_name,product_category, product_category_rank,  \n",
    "                                   unknown_ingredient_count, low_ingredient_count, middle_ingredient_count,high_ingredient_count, \n",
    "                                   ingredient_name_list,product_description])\n",
    "        \n",
    "        time.sleep(0.5)\n",
    "    driver.quit() \n",
    "    print('###########################')\n",
    "    print('{}개의 키워드 = \"{}\"의 상품 정보 수집 완료'.format(len(code_dic[key_name]), key_name))\n",
    "    print('chrome driver를 종료합니다.')\n",
    "    print('###########################')\n",
    "    print('----------------------------')\n",
    "    driver.quit()\n",
    "    \n",
    "    \n",
    "    df = pd.DataFrame(data=total_product_list, columns=['화장품명', '브랜드명', '브랜드 내 순위', '용량', '가격', '평점', '만족도', '리뷰 수', '키워드 카테고리','카테고리', '카테고리 내 순위', \n",
    "                                                        '위험도 미정 성분 개수', \n",
    "                                                        '낮은 위험도 성분 개수', '중간 위험도 성분 개수', '높은 위험도 성분 개수','구성 성분 리스트','제품 설명'])\n",
    "    \n",
    "\n",
    "    return df"
   ]
  },
  {
   "cell_type": "code",
   "execution_count": 14,
   "id": "beb0dcc2",
   "metadata": {},
   "outputs": [
    {
     "name": "stdout",
     "output_type": "stream",
     "text": [
      "##################\n",
      "글로우픽 화장품 정보 크롤링을 시작합니다.\n",
      "###### 카테고리 = 클렌징의 상품 정보를 추출합니다. ######\n",
      "###########################\n",
      "1800개의 키워드 = \"클렌징\"의 상품 정보 수집 완료\n",
      "chrome driver를 종료합니다.\n",
      "###########################\n",
      "----------------------------\n"
     ]
    }
   ],
   "source": [
    "data = GlowPickCrawling(code_list)"
   ]
  },
  {
   "cell_type": "code",
   "execution_count": 18,
   "id": "a162da40",
   "metadata": {},
   "outputs": [
    {
     "data": {
      "text/plain": [
       "화장품명            0\n",
       "브랜드명            0\n",
       "브랜드 내 순위        0\n",
       "용량              0\n",
       "가격              0\n",
       "평점              0\n",
       "만족도             0\n",
       "리뷰 수            0\n",
       "키워드 카테고리        0\n",
       "카테고리            0\n",
       "카테고리 내 순위       0\n",
       "위험도 미정 성분 개수    0\n",
       "낮은 위험도 성분 개수    0\n",
       "중간 위험도 성분 개수    0\n",
       "높은 위험도 성분 개수    0\n",
       "구성 성분 리스트       0\n",
       "제품 설명           0\n",
       "dtype: int64"
      ]
     },
     "execution_count": 18,
     "metadata": {},
     "output_type": "execute_result"
    }
   ],
   "source": [
    "data.isnull().sum()"
   ]
  },
  {
   "cell_type": "code",
   "execution_count": 16,
   "id": "30106225",
   "metadata": {},
   "outputs": [],
   "source": [
    "# 현재 날짜 기준으로 저장\n",
    "today_date = datetime.today().strftime(\"%Y_%m_%d\") \n",
    "\n",
    "# 데이터를 원하는 형식으로 저장(csv일 경우 to_csv)\n",
    "data.to_excel('GlowPic_dataset_클렌징{}.xlsx'.format(today_date))"
   ]
  },
  {
   "cell_type": "code",
   "execution_count": null,
   "id": "a22f8f04",
   "metadata": {},
   "outputs": [],
   "source": []
  }
 ],
 "metadata": {
  "kernelspec": {
   "display_name": "Python 3 (ipykernel)",
   "language": "python",
   "name": "python3"
  },
  "language_info": {
   "codemirror_mode": {
    "name": "ipython",
    "version": 3
   },
   "file_extension": ".py",
   "mimetype": "text/x-python",
   "name": "python",
   "nbconvert_exporter": "python",
   "pygments_lexer": "ipython3",
   "version": "3.9.7"
  }
 },
 "nbformat": 4,
 "nbformat_minor": 5
}
