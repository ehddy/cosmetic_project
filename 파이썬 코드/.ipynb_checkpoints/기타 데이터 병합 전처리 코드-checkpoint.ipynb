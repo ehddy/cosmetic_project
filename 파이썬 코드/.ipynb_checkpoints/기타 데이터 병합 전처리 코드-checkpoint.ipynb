{
 "cells": [
  {
   "cell_type": "code",
   "execution_count": 1,
   "id": "f7ea1b8a",
   "metadata": {},
   "outputs": [],
   "source": [
    "import pandas as pd \n",
    "from datetime import datetime"
   ]
  },
  {
   "cell_type": "markdown",
   "id": "d7957ad5",
   "metadata": {},
   "source": [
    "## 1. 데이터 불러오기"
   ]
  },
  {
   "cell_type": "code",
   "execution_count": 2,
   "id": "bc977be5",
   "metadata": {},
   "outputs": [],
   "source": [
    "# 이전 전처리한 파일 가져오기 \n",
    "data = pd.read_excel('상품 정보 데이터 총 합본(전처리 완료).xlsx')\n",
    "\n",
    "# 제품 설명 열 삭제\n",
    "data.drop('제품 설명', axis=1, inplace=True)"
   ]
  },
  {
   "cell_type": "code",
   "execution_count": 3,
   "id": "1c714bd6",
   "metadata": {},
   "outputs": [],
   "source": [
    "# 성분 관련 데이터셋 import (성분명과 조인)\n",
    "# 건성 성분 데이터셋 (좋은 or 나쁜)\n",
    "dry_skin_ingredient_good_data = pd.read_excel('../데이터/성분 관련 데이터/건성 성분 데이터셋.xlsx')\n",
    "dry_skin_ingredient_bad_data = pd.read_excel('../데이터/성분 관련 데이터/건성 성분 데이터셋.xlsx', sheet_name='주의성분')\n",
    "# 지성 성분 데이터셋 (좋은 or 나쁜)\n",
    "oily_skin_ingredient_good_data = pd.read_excel('../데이터/성분 관련 데이터/지성 성분 데이터셋.xlsx')\n",
    "oily_skin_ingredient_bad_data = pd.read_excel('../데이터/성분 관련 데이터/지성 성분 데이터셋.xlsx', sheet_name='주의성분')\n",
    "# 민감성 성분 데이터셋 (좋은 or 나쁜)\n",
    "sensitive_skin_ingredient_good_data = pd.read_excel('../데이터/성분 관련 데이터/민감성 성분 데이터셋.xlsx')\n",
    "sensitive_skin_ingredient_bad_data = pd.read_excel('../데이터/성분 관련 데이터/민감성 성분 데이터셋.xlsx', sheet_name='주의성분')\n",
    "# 아토피 유해성분 데이터셋\n",
    "atopy_skin_bad_data = pd.read_excel('../데이터/성분 관련 데이터/아토피 유해성분 데이터셋.xlsx')\n",
    "# 여드름 성분 데이터셋 (좋은 Or 나쁜)\n",
    "acne_skin_good_data = pd.read_excel('../데이터/성분 관련 데이터/여드름 성분 데이터셋.xlsx')\n",
    "acne_skin_bad_data = pd.read_excel('../데이터/성분 관련 데이터/여드름 성분 데이터셋.xlsx', sheet_name='주의성분')\n",
    "# 알레르기 성분 데이터셋 \n",
    "allergy_ingredient_data = pd.read_excel('../데이터/성분 관련 데이터/알레르기 성분 데이터셋.xlsx')\n",
    "#  천연 및 유기농 성분 데이터셋  \n",
    "natural_ingredient_data = pd.read_excel('../데이터/성분 관련 데이터/천연 및 유기농.xlsx')\n",
    "# 올리브영에서 지정한 유해성분 데이터셋 \n",
    "olive_young_ingredient_data = pd.read_excel('../데이터/성분 관련 데이터/올리브영 유해성분 데이터셋.xlsx')"
   ]
  },
  {
   "cell_type": "code",
   "execution_count": 4,
   "id": "2b42b039",
   "metadata": {},
   "outputs": [],
   "source": [
    "# 클린 뷰티 관련 데이터셋 import (브랜드 명과 조인)\n",
    "# 동물 실험을 하지 않은 브랜드 데이터셋 \n",
    "non_animal_testing_data = pd.read_excel('../데이터/클린뷰티 관련 데이터셋/동물 실험을 하지 않은 브랜드 데이터셋.xlsx')\n",
    "# 공병 수거를 진행한 브랜드 데이터셋 \n",
    "reusable_data =  pd.read_excel('../데이터/클린뷰티 관련 데이터셋/화장품 공병 수거 데이터셋.xlsx')\n",
    "# 동물성 성분 데이터셋\n",
    "animal_ingredient_data =  pd.read_excel('../데이터/클린뷰티 관련 데이터셋/동물성 성분 데이터셋.xlsx')"
   ]
  },
  {
   "cell_type": "markdown",
   "id": "e217185f",
   "metadata": {},
   "source": [
    "## 2. 데이터 전처리"
   ]
  },
  {
   "cell_type": "markdown",
   "id": "fdd8cc9b",
   "metadata": {},
   "source": [
    "### 2-1 기본 전처리 자동화"
   ]
  },
  {
   "cell_type": "code",
   "execution_count": 5,
   "id": "eba50c60",
   "metadata": {},
   "outputs": [],
   "source": [
    "# 해당 성분이 리스트 안에 포함되어 있으면 count를 하나씩 + \n",
    "def count_ingredient(x, data):\n",
    "    count = 0\n",
    "    for i in data.to_list():\n",
    "        if i in x:\n",
    "            count += 1\n",
    "    return count "
   ]
  },
  {
   "cell_type": "code",
   "execution_count": 6,
   "id": "44ba33af",
   "metadata": {},
   "outputs": [],
   "source": [
    "def various_data_preprocessing(data):\n",
    "    # 1. 성분을 기준으로 구성성분 리스트에 있는 성분일 경우 Count를 하나씩 늘려가면서 포함된 성분 개수를 구함 \n",
    "    # 화장품마다 지성 피부, 건성 피부, 민감성 피부, 여드름 피부에 좋은 성분이 포함된 개수를 구해서 새롭게 열추가 \n",
    "    data['지성 피부에 좋은 성분 개수'] = data['구성 성분 리스트'].apply(lambda x : count_ingredient(x, oily_skin_ingredient_good_data['좋은성분']))\n",
    "    data['건성 피부에 좋은 성분 개수'] = data['구성 성분 리스트'].apply(lambda x : count_ingredient(x, dry_skin_ingredient_good_data['좋은성분']))\n",
    "    data['민감성 피부에 좋은 성분 개수'] = data['구성 성분 리스트'].apply(lambda x : count_ingredient(x, sensitive_skin_ingredient_good_data['좋은성분']))\n",
    "    data['여드름 피부에 좋은 성분 개수'] = data['구성 성분 리스트'].apply(lambda x : count_ingredient(x, acne_skin_good_data['좋은성분']))\n",
    "      \n",
    "    # 화장품마다 지성 피부, 건성 피부, 민감성 피부, 여드름 피부, 아토피 피부에 나쁜 성분이 포함된 개수를 구해서 새롭게 열추가 \n",
    "    data['지성 피부에 나쁜 성분 개수'] = data['구성 성분 리스트'].apply(lambda x : count_ingredient(x, oily_skin_ingredient_bad_data['주의성분']))\n",
    "    data['건성 피부에 나쁜 성분 개수'] = data['구성 성분 리스트'].apply(lambda x : count_ingredient(x, dry_skin_ingredient_bad_data['주의성분']))\n",
    "    data['민감성 피부에 나쁜 성분 개수'] = data['구성 성분 리스트'].apply(lambda x : count_ingredient(x, sensitive_skin_ingredient_bad_data['주의성분']))\n",
    "    data['여드름 피부에 나쁜 성분 개수'] = data['구성 성분 리스트'].apply(lambda x : count_ingredient(x, acne_skin_bad_data['주의성분']))  \n",
    "    data['아토피 피부에 유해한 성분 개수'] = data['구성 성분 리스트'].apply(lambda x : count_ingredient(x, atopy_skin_bad_data['성분명']))\n",
    "    \n",
    "    # 화장품마다 알레르기를 유발하고, 올리브영에서 따로 유해성분이라고 규정한 성분이 포함된 개수를 구해서 새롭게 열 추가 \n",
    "    data['알레르기 유발 성분 개수'] = data['구성 성분 리스트'].apply(lambda x : count_ingredient(x, allergy_ingredient_data['성분명']))\n",
    "    data['올리브영 선정 유해 성분 개수'] = data['구성 성분 리스트'].apply(lambda x : count_ingredient(x, olive_young_ingredient_data['성분']))    \n",
    "    # 화장품마다 ~~~에서 지정한 천연 및 유기농 성분이 포함된 개수를 구해서 새롭게 열 추가 \n",
    "    data['천연 및 유기농 성분 개수'] = data['구성 성분 리스트'].apply(lambda x : count_ingredient(x, natural_ingredient_data['성분명']))\n",
    "    # 동물성 성분의 개수 리스트 \n",
    "    data['동물성 성분 개수'] = data['구성 성분 리스트'].apply(lambda x : count_ingredient(x, animal_ingredient_data['성분명'])) \n",
    "    \n",
    "    \n",
    "    # 2. 브랜드와 성분명을 기준으로 새롭게 열을 추가(1과 0의 값으로 변환 ex_ 만약 해당 화장품의 브랜드가 동물실험을 하지 않았다면 1, 했으면 0 식으로 표기) \n",
    "    # 동물실험을 하지 않은 브랜드 리스트\n",
    "    data['동물실험을 하지 않는 브랜드'] = data['브랜드명'].apply(lambda x : 1 if x in list(non_animal_testing_data['브랜드']) else 0)\n",
    "    # 공병수거를 하는 브랜드 리스트 \n",
    "    data['공병 수거를 하는 브랜드'] = data['브랜드명'].apply(lambda x : 1 if x in list(reusable_data['브랜드']) else 0) \n",
    "    \n",
    "    data.drop('구성 성분 리스트', axis=1, inplace=True)\n",
    "    \n",
    "    data.reset_index(drop=True, inplace=True)\n",
    "    \n",
    "    return data "
   ]
  },
  {
   "cell_type": "code",
   "execution_count": 7,
   "id": "7978b753",
   "metadata": {},
   "outputs": [],
   "source": [
    "data = various_data_preprocessing(data)"
   ]
  },
  {
   "cell_type": "code",
   "execution_count": 8,
   "id": "4d0c4819",
   "metadata": {},
   "outputs": [],
   "source": [
    "# 현재 날짜 기준으로 저장\n",
    "today_date = datetime.today().strftime(\"%Y_%m_%d\") \n",
    "\n",
    "# 데이터를 원하는 형식으로 저장(csv일 경우 to_csv)\n",
    "data.to_excel('../데이터/최종 데이터셋/최종 데이터셋_{}.xlsx'.format(today_date), index=False)"
   ]
  },
  {
   "cell_type": "code",
   "execution_count": null,
   "id": "50925348",
   "metadata": {},
   "outputs": [],
   "source": []
  }
 ],
 "metadata": {
  "kernelspec": {
   "display_name": "Python 3 (ipykernel)",
   "language": "python",
   "name": "python3"
  },
  "language_info": {
   "codemirror_mode": {
    "name": "ipython",
    "version": 3
   },
   "file_extension": ".py",
   "mimetype": "text/x-python",
   "name": "python",
   "nbconvert_exporter": "python",
   "pygments_lexer": "ipython3",
   "version": "3.8.13"
  }
 },
 "nbformat": 4,
 "nbformat_minor": 5
}
